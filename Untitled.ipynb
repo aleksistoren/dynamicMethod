{
 "cells": [
  {
   "cell_type": "code",
   "execution_count": 1,
   "id": "41d3e111-8b3e-4710-836f-629ff1c5a5d5",
   "metadata": {},
   "outputs": [],
   "source": [
    "def x(s: str):\n",
    "    sfsdfsd\n",
    "    "
   ]
  },
  {
   "cell_type": "code",
   "execution_count": null,
   "id": "fbf96276-1e7a-4b28-822d-441135ea06d7",
   "metadata": {},
   "outputs": [],
   "source": []
  }
 ],
 "metadata": {
  "kernelspec": {
   "display_name": "Python 3 (ipykernel)",
   "language": "python",
   "name": "python3"
  },
  "language_info": {
   "codemirror_mode": {
    "name": "ipython",
    "version": 3
   },
   "file_extension": ".py",
   "mimetype": "text/x-python",
   "name": "python",
   "nbconvert_exporter": "python",
   "pygments_lexer": "ipython3",
   "version": "3.9.13"
  }
 },
 "nbformat": 4,
 "nbformat_minor": 5
}
